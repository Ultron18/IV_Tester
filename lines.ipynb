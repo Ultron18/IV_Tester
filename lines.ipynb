{
 "cells": [
  {
   "cell_type": "code",
   "execution_count": 4,
   "id": "72b330eb",
   "metadata": {},
   "outputs": [
    {
     "name": "stdout",
     "output_type": "stream",
     "text": [
      "Number of lines in all_netfile_FIMV_10.raw: 401669\n"
     ]
    }
   ],
   "source": [
    "def count_lines_in_raw_file(file_path):\n",
    "    line_count = 0\n",
    "    with open(file_path, 'rb') as file:  # Use 'rb' for raw/binary files\n",
    "        for line in file:\n",
    "            line_count += 1\n",
    "    return line_count\n",
    "\n",
    "# Example usage\n",
    "file_path = 'all_netfile_FIMV_10.raw'\n",
    "lines = count_lines_in_raw_file(file_path)\n",
    "print(f\"Number of lines in {file_path}: {lines}\")\n"
   ]
  }
 ],
 "metadata": {
  "kernelspec": {
   "display_name": "Python 3",
   "language": "python",
   "name": "python3"
  },
  "language_info": {
   "codemirror_mode": {
    "name": "ipython",
    "version": 3
   },
   "file_extension": ".py",
   "mimetype": "text/x-python",
   "name": "python",
   "nbconvert_exporter": "python",
   "pygments_lexer": "ipython3",
   "version": "3.11.9"
  }
 },
 "nbformat": 4,
 "nbformat_minor": 5
}
