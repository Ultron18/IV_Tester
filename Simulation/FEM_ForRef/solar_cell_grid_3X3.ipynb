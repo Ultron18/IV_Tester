{
 "cells": [
  {
   "cell_type": "code",
   "execution_count": 1,
   "metadata": {},
   "outputs": [],
   "source": [
    "import numpy as np\n",
    "import matplotlib.pyplot as plt\n",
    "import ltspice\n",
    "import subprocess\n",
    "import pickle"
   ]
  },
  {
   "cell_type": "markdown",
   "metadata": {},
   "source": [
    "creating the top, finite elements and bottom grid"
   ]
  },
  {
   "cell_type": "code",
   "execution_count": 2,
   "metadata": {},
   "outputs": [],
   "source": [
    "def netlist_solar_cell_fin_ele(Rsh, Rsr, I, indx, indy):\n",
    "    netlist =f\"\"\"\n",
    "I{indx}{indy} T{indx}{indy} N{indx}{indy} {I}\n",
    "D{indx}{indy} N{indx}{indy} T{indx}{indy} D\n",
    "Rshunt{indx}{indy} N{indx}{indy} T{indx}{indy} {Rsh}\n",
    "Rseries{indx}{indy} B{indx+1}{indy+1} N{indx}{indy} {Rsr}\n",
    "\"\"\"\n",
    "    return netlist\n",
    "\n",
    "def netlist_solar_cell_top_ele(R_fingers, R_bb, n, m):\n",
    "    netlist = \"\"\n",
    "    # Rows - Fingers\n",
    "    for j in range(0, m+1):  # Loop through rows of fingers\n",
    "        for i in range(0, n):  # Loop through columns of fingers\n",
    "            line = f\"RF_f{i}{j} T{i}{j} T{i+1}{j} {R_fingers[j][i]}\\n\"\n",
    "            netlist += line  # Add to the netlist\n",
    "    \n",
    "    # Rows - Busbars\n",
    "    for i in range(0, n+1):  # Loop through columns of busbars\n",
    "        for j in range(0, m):  # Loop through rows of busbars\n",
    "            line = f\"RF_b{i}{j} T{i}{j} T{i}{j+1} {R_bb[i][j]}\\n\"\n",
    "            netlist += line  # Add to the netlist\n",
    "            \n",
    "    return netlist\n",
    "\n",
    "def netlist_solar_cell_bottom_ele(R_fingers, R_bb, n, m):\n",
    "    netlist = \"\"\n",
    "    # Rows - Fingers\n",
    "    for j in range(0, m):  # Loop through rows of fingers\n",
    "        for i in range(0, n):  # Loop through columns of fingers\n",
    "            line = f\"RB_f{i}{j} B{i}{j} B{i+1}{j} {R_fingers[j][i]}\\n\"\n",
    "            netlist += line  # Add to the netlist\n",
    "    \n",
    "    # Rows - Busbars\n",
    "    for i in range(0, n):  # Loop through columns of busbars\n",
    "        for j in range(0, m):  # Loop through rows of busbars\n",
    "            line = f\"RB_b{i}{j} B{i}{j} B{i}{j+1} {R_bb[i][j]}\\n\"\n",
    "            netlist += line  # Add to the netlist\n",
    "    \n",
    "    return netlist\n",
    "\n",
    "def netlist_V_source():\n",
    "    netlist = f\"V1 B00 T33 DC 0\\n\"\n",
    "    return netlist\n",
    "\n",
    "def netlist_simtype():\n",
    "    netlist = \".dc V1 0 1 0.01\\n\"\n",
    "    return netlist\n"
   ]
  },
  {
   "cell_type": "code",
   "execution_count": 3,
   "metadata": {},
   "outputs": [],
   "source": [
    "#number of finite element n x m (row x coloum) \n",
    "\n",
    "n = 3\n",
    "m = 3\n",
    "\n",
    "Rsh = [[1000, 1100, 900], [1000, 1100, 900], [1000, 1100, 900]] #R series\n",
    "Rsr = [[0.001, 0.0009, 0.0011], [0.001, 0.0009, 0.0011], [0.001, 0.0009, 0.0011]] #R shunt\n",
    "I = 2\n",
    "\n",
    "file_path = 'spice_models\\\\finit_elements\\\\'\n",
    "\n",
    "top_grid_R_fing = [[0.0001, 0.0001, 0.0001], [0.0001, 0.0001, 0.0001], [0.0001, 0.0001, 0.0001], [0.0001, 0.0001, 0.0001]]\n",
    "top_grid_R_bb = [[0.0001, 0.0001, 0.0001], [0.0001, 0.0001, 0.0001], [0.0001, 0.0001, 0.0001], [0.0001, 0.0001, 0.0001]]\n",
    "\n",
    "bottom_grid_R_fing = [[0.0001, 0.0001, 0.0001], [0.0001, 0.0001, 0.0001], [0.0001, 0.0001, 0.0001], [0.0001, 0.0001, 0.0001]]\n",
    "bottom_grid_R_bb = [[0.0001, 0.0001, 0.0001], [0.0001, 0.0001, 0.0001], [0.0001, 0.0001, 0.0001], [0.0001, 0.0001, 0.0001]]"
   ]
  },
  {
   "cell_type": "code",
   "execution_count": 4,
   "metadata": {},
   "outputs": [],
   "source": [
    "def solar_cell_netlist():\n",
    "\n",
    "    # Initialize the netlist with the header\n",
    "    netlist = \"\"\"* C:\\\\Drive\\\\semester 7\\\\BTP-1\\\\work4_EL\\\\finite_element_model\\\\spice_models\\\\solar_cell.asc\\n\"\"\"\n",
    "    \n",
    "    # top resistance grid\n",
    "    # nodes from T00 to Tnn\n",
    "    netlist += netlist_solar_cell_top_ele(top_grid_R_fing, top_grid_R_bb, n, m)\n",
    "\n",
    "    # finite element\n",
    "    for i in range(0,n):\n",
    "        for j in range(0,m):    \n",
    "            netlist += netlist_solar_cell_fin_ele(Rsh[i][j], Rsr[i][j], I, i, j)\n",
    "    \n",
    "    # bottom resistance grid\n",
    "    # nodes from B00 to Bnn\n",
    "    netlist += netlist_solar_cell_bottom_ele(bottom_grid_R_fing, bottom_grid_R_bb, n, m)\n",
    "\n",
    "    # adding the voltage source\n",
    "    netlist += netlist_V_source()\n",
    "\n",
    "    # adding the simulation type\n",
    "    netlist += netlist_simtype()\n",
    "\n",
    "    # replacing the node T22 with ground\n",
    "    netlist = netlist.replace(\" T33\", \" 0\")\n",
    "\n",
    "    # Add the footer\n",
    "    netlist += \"\"\".model D D\n",
    ".lib C:\\\\Users\\\\manik\\\\AppData\\\\Local\\\\LTspice\\\\lib\\\\cmp\\\\standard.dio\n",
    ".backanno\n",
    ".end\"\"\"\n",
    "\n",
    "    return netlist\n",
    "\n",
    "\n",
    "output_file = file_path + f\"solar_cell.net\"\n",
    "with open(output_file, 'w') as file:\n",
    "    file.write(solar_cell_netlist())"
   ]
  },
  {
   "cell_type": "markdown",
   "metadata": {},
   "source": [
    "now i have the netlist ready lets try simulating it!"
   ]
  },
  {
   "cell_type": "code",
   "execution_count": 5,
   "metadata": {},
   "outputs": [],
   "source": [
    "# Path to LTSpice executable\n",
    "ltspice_exe = 'C:\\\\Users\\\\manik\\\\AppData\\\\Local\\\\Programs\\\\ADI\\\\LTspice\\\\LTspice.exe'\n",
    "\n",
    "def RunLTsimulation(netlist_file):\n",
    "    # Run LTSpice simulation\n",
    "    subprocess.run([ltspice_exe, '-b', netlist_file], check=True)\n",
    "\n",
    "# Path to the netlist file\n",
    "netlist_file = \"spice_models\\\\finit_elements\\\\solar_cell.net\"\n",
    "\n",
    "#running simulation\n",
    "RunLTsimulation(netlist_file)"
   ]
  },
  {
   "cell_type": "code",
   "execution_count": 6,
   "metadata": {},
   "outputs": [
    {
     "data": {
      "text/plain": [
       "<ltspice.ltspice.Ltspice at 0x1fbf9505bb0>"
      ]
     },
     "execution_count": 6,
     "metadata": {},
     "output_type": "execute_result"
    }
   ],
   "source": [
    "# Extract data\n",
    "# Load the LTSpice data\n",
    "lt = ltspice.Ltspice(\"spice_models\\\\finit_elements\\\\solar_cell.raw\")\n",
    "lt.parse()"
   ]
  },
  {
   "cell_type": "code",
   "execution_count": 7,
   "metadata": {},
   "outputs": [
    {
     "data": {
      "text/plain": [
       "[<matplotlib.lines.Line2D at 0x1fb887f7050>]"
      ]
     },
     "execution_count": 7,
     "metadata": {},
     "output_type": "execute_result"
    },
    {
     "data": {
      "image/png": "[encoded data removed]",
      "text/plain": [
       "<Figure size 640x480 with 1 Axes>"
      ]
     },
     "metadata": {},
     "output_type": "display_data"
    }
   ],
   "source": [
    "I = lt.get_data(\"I(V1)\")\n",
    "V = lt.get_data(\"v1\")\n",
    "#find the point where I becomes zero and stop ploting there\n",
    "zero_crossing_index = np.argmax(I <= 0)  # First index where I <= 0\n",
    "\n",
    "# Slice the data up to the zero-crossing point\n",
    "V_trimmed = V[:zero_crossing_index]\n",
    "I_trimmed = I[:zero_crossing_index]\n",
    "\n",
    "plt.plot(V_trimmed,I_trimmed )\n"
   ]
  }
 ],
 "metadata": {
  "kernelspec": {
   "display_name": "Python 3",
   "language": "python",
   "name": "python3"
  },
  "language_info": {
   "codemirror_mode": {
    "name": "ipython",
    "version": 3
   },
   "file_extension": ".py",
   "mimetype": "text/x-python",
   "name": "python",
   "nbconvert_exporter": "python",
   "pygments_lexer": "ipython3",
   "version": "3.12.3"
  }
 },
 "nbformat": 4,
 "nbformat_minor": 2
}
