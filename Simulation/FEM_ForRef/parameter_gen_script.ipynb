{
 "cells": [
  {
   "cell_type": "markdown",
   "metadata": {},
   "source": [
    "This code is to generate the parameters such as front resistance network, back resistance network, rshunt, rseries etc"
   ]
  },
  {
   "cell_type": "code",
   "execution_count": 11,
   "metadata": {},
   "outputs": [],
   "source": [
    "import numpy as np\n",
    "import pickle"
   ]
  },
  {
   "cell_type": "code",
   "execution_count": 12,
   "metadata": {},
   "outputs": [],
   "source": [
    "n = 6 #number of bus bar\n",
    "m = 100 # numner of fingers\n",
    "\n",
    "I = 0#0.009 #illumination\n",
    "\n",
    "# now we set the range for each parametes\n",
    "RF_finger = [] #RF_finger (0.5m, 1.5m) ohm\n",
    "RFf = [] \n",
    "RB_finger = [] #RB_finger (0.5m, 1.5m) ohm\n",
    "RBf = [] \n",
    "for j in range(0, m+1):\n",
    "    for i in range(0, n):\n",
    "        RFf.append(np.random.uniform(0.1e-3, 15e-3))\n",
    "        RBf.append(np.random.uniform(0.1e-3, 15e-3))\n",
    "    RF_finger.append(RFf)\n",
    "    RB_finger.append(RBf)\n",
    "    RFf = [] \n",
    "    RBf = [] \n",
    "\n",
    "\n",
    "RF_busbar = [] #RF_busbar (0.05m, 0.15m) ohm\n",
    "RFb = [] \n",
    "RB_busbar = [] #RB_busbar (0.05m, 0.15m) ohm\n",
    "RBb = [] \n",
    "for i in range(0, n+1):\n",
    "    for j in range(0, m):\n",
    "        RFb.append(np.random.uniform(0.01e-3, 1.5e-3))\n",
    "        RBb.append(np.random.uniform(0.01e-3, 1.5e-3))\n",
    "    RF_busbar.append(RFb)\n",
    "    RB_busbar.append(RBb)\n",
    "    RFb = [] \n",
    "    RBb = [] \n",
    "\n",
    "Rshunt = [] #Rshunt (500, 1500) ohm\n",
    "Rseries = [] #Rseries (0.5m, 1.5m) ohm\n",
    "Rsh = []\n",
    "Rsr = []\n",
    "for i in range(0,n):\n",
    "    for j in range(0,m):  \n",
    "        Rsh.append(np.random.uniform(10, 20000))\n",
    "        Rsr.append(np.random.uniform(5e-5, 150e-2))\n",
    "    Rshunt.append(Rsh)\n",
    "    Rseries.append(Rsr)\n",
    "    Rsh = []\n",
    "    Rsr = []\n",
    "\n",
    "\n",
    "#probing coordinates.\n",
    "#positive terminal\n",
    "Probe_pos = [(0,0), (1,0), (2,0), (3,0), (4,0), (5,0), (6,0), (0,100), (1,100), (2,100), (3,100), (4,100), (5,100), (6,100)]\n",
    "#neagtive terminal\n",
    "Probe_neg = [(0,0), (1,0), (2,0), (3,0), (4,0), (5,0), (6,0), (0,100), (1,100), (2,100), (3,100), (4,100), (5,100), (6,100)]\n",
    "# pogo pin resistance\n",
    "Rpogo = 0.1e-3 #0.1 m ohm"
   ]
  },
  {
   "cell_type": "code",
   "execution_count": 13,
   "metadata": {},
   "outputs": [],
   "source": [
    "# Store all variables in a dictionary\n",
    "data = {\n",
    "    \"n\": n,\n",
    "    \"m\": m,\n",
    "    \"I\": I,\n",
    "    \"RF_finger\": RF_finger,\n",
    "    \"RB_finger\": RB_finger,\n",
    "    \"RF_busbar\": RF_busbar,\n",
    "    \"RB_busbar\": RB_busbar,\n",
    "    \"Rshunt\": Rshunt,\n",
    "    \"Rseries\": Rseries,\n",
    "    \"RPogo_pin\": Rpogo,\n",
    "    \"Probe_pos\": Probe_pos,\n",
    "    \"Probe_neg\": Probe_neg\n",
    "}\n",
    "\n",
    "# Save the dictionary to a file\n",
    "#file_name = \"spice_models\\\\parameters.pkl\"\n",
    "file_name = \"EL_model\\\\parameters.pkl\"\n",
    "with open(file_name, \"wb\") as file:\n",
    "    pickle.dump(data, file)"
   ]
  }
 ],
 "metadata": {
  "kernelspec": {
   "display_name": "Python 3",
   "language": "python",
   "name": "python3"
  },
  "language_info": {
   "codemirror_mode": {
    "name": "ipython",
    "version": 3
   },
   "file_extension": ".py",
   "mimetype": "text/x-python",
   "name": "python",
   "nbconvert_exporter": "python",
   "pygments_lexer": "ipython3",
   "version": "3.12.3"
  }
 },
 "nbformat": 4,
 "nbformat_minor": 2
}
