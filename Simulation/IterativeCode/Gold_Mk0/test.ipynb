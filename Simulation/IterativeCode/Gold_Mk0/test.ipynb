{
 "cells": [
  {
   "cell_type": "code",
   "execution_count": 31,
   "id": "76b896a7",
   "metadata": {},
   "outputs": [
    {
     "name": "stdout",
     "output_type": "stream",
     "text": [
      "5.036036036036036  got found\n",
      "\n"
     ]
    }
   ],
   "source": [
    "import numpy as np\n",
    "arr = np.linspace(1,10,1000)\n",
    "\n",
    "\n",
    "val_req = 5.035\n",
    "\n",
    "i_prev = 0\n",
    "for i in arr:\n",
    "    if(i==val_req):\n",
    "        print('Value reacehes at i =',i,'\\n')\n",
    "        break\n",
    "\n",
    "    if((np.abs(i_prev - val_req)) < (np.abs(i - val_req) )):\n",
    "        print(i_prev,' got found\\n')\n",
    "        break\n",
    "\n",
    "    i_prev = i\n"
   ]
  }
 ],
 "metadata": {
  "kernelspec": {
   "display_name": "Python 3",
   "language": "python",
   "name": "python3"
  },
  "language_info": {
   "codemirror_mode": {
    "name": "ipython",
    "version": 3
   },
   "file_extension": ".py",
   "mimetype": "text/x-python",
   "name": "python",
   "nbconvert_exporter": "python",
   "pygments_lexer": "ipython3",
   "version": "3.11.9"
  }
 },
 "nbformat": 4,
 "nbformat_minor": 5
}
