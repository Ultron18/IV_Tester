{
 "cells": [
  {
   "cell_type": "markdown",
   "id": "9c7c50ed",
   "metadata": {},
   "source": [
    "## Create a netlist to fit a certain paramter in LTspice to what we want"
   ]
  },
  {
   "cell_type": "code",
   "execution_count": 8,
   "id": "a35b6d91",
   "metadata": {},
   "outputs": [],
   "source": [
    "import numpy as np\n",
    "import subprocess\n",
    "import ltspice"
   ]
  },
  {
   "cell_type": "code",
   "execution_count": 9,
   "id": "2b17029d",
   "metadata": {},
   "outputs": [],
   "source": [
    "Total_no_of_points = 100\n",
    "Param_max = 1000\n",
    "R_req = 550\n",
    "\n",
    "net_name = \"spice_model\"\n",
    "R_iter = np.linspace(1,Param_max,Total_no_of_points)"
   ]
  },
  {
   "cell_type": "markdown",
   "id": "a75aad72",
   "metadata": {},
   "source": [
    "### Change for every network"
   ]
  },
  {
   "cell_type": "code",
   "execution_count": 10,
   "id": "059d7b3a",
   "metadata": {},
   "outputs": [
    {
     "name": "stdout",
     "output_type": "stream",
     "text": [
      "Max_pos =  545.4545454545455\n"
     ]
    }
   ],
   "source": [
    "# Has to change for every network configuration\n",
    "\n",
    "max_possible = (((2*Param_max*Param_max)/(3*Param_max))*3*Param_max)/(((2*Param_max*Param_max)/(3*Param_max))+ (3*Param_max))\n",
    "print('Max_pos = ',max_possible)"
   ]
  },
  {
   "cell_type": "markdown",
   "id": "97a2097f",
   "metadata": {},
   "source": [
    "### Functions for:\n",
    "#### 1) Defining LTspice model\n",
    "#### 2) Running simulation of LTspice model"
   ]
  },
  {
   "cell_type": "code",
   "execution_count": 11,
   "id": "abf567ef",
   "metadata": {},
   "outputs": [],
   "source": [
    "output_file = net_name +'.net'\n",
    "netlist_file = output_file\n",
    "ltspice_exe = 'C:\\\\Program Files\\\\ADI\\\\LTspice\\\\LTspice.exe'\n",
    "\n",
    "def spice_netlist(R_iter_test):\n",
    "    # Initialize the netlist with the header\n",
    "    netlist = \"\"\"*C:\\\\Users\\\\ASUS\\\\Desktop\\\\Semesters\\\\Sem 8\\\\BTP\\\\Simulation\\\\Gold_Mk0\\\\\"\"\"\n",
    "    netlist += net_name + '.asc\\n'\n",
    "    \n",
    "    netlist += f\"I1 0 N001 1\\n\"\n",
    "    netlist += f\"R1 N001 0 {R_iter_test}\\n\"\n",
    "    netlist += f\"R2 N001 0 {2*R_iter_test}\\n\"\n",
    "    netlist += f\"R3 N001 0 {3*R_iter_test}\\n\"\n",
    "    # Add the footer\n",
    "    netlist += \"\"\".tran 10m\n",
    ".backanno\n",
    ".end\"\"\"\n",
    "    return netlist\n",
    "\n",
    "def RunLTsimulation(netlist_file):\n",
    "    # Run LTSpice simulation\n",
    "    subprocess.run([ltspice_exe, '-b', netlist_file], check=True)"
   ]
  },
  {
   "cell_type": "markdown",
   "id": "0146d886",
   "metadata": {},
   "source": [
    "### Iterating over unknown parameter to optimize\n",
    "#### This includes:\n",
    "##### 1) Modifying netlist file\n",
    "##### 2) Simulating LTspice file\n",
    "##### 3) Checking the required parameter"
   ]
  },
  {
   "cell_type": "code",
   "execution_count": 12,
   "id": "427b42a9",
   "metadata": {},
   "outputs": [
    {
     "name": "stdout",
     "output_type": "stream",
     "text": [
      "0.0 %\n",
      "0.01 %\n",
      "0.02 %\n",
      "0.03 %\n",
      "0.04 %\n",
      "0.05 %\n",
      "0.06 %\n",
      "0.07 %\n",
      "0.08 %\n",
      "0.09 %\n",
      "0.1 %\n",
      "0.11 %\n",
      "0.12 %\n",
      "0.13 %\n",
      "0.14 %\n",
      "0.15 %\n",
      "0.16 %\n",
      "0.17 %\n",
      "0.18 %\n",
      "0.19 %\n",
      "0.2 %\n",
      "0.21 %\n",
      "0.22 %\n",
      "0.23 %\n",
      "0.24 %\n",
      "0.25 %\n",
      "0.26 %\n",
      "0.27 %\n",
      "0.28 %\n",
      "0.29 %\n",
      "0.3 %\n",
      "0.31 %\n",
      "0.32 %\n",
      "0.33 %\n",
      "0.34 %\n",
      "0.35 %\n",
      "0.36 %\n",
      "0.37 %\n",
      "0.38 %\n",
      "0.39 %\n",
      "0.4 %\n",
      "0.41 %\n",
      "0.42 %\n",
      "0.43 %\n",
      "0.44 %\n",
      "0.45 %\n",
      "0.46 %\n",
      "0.47 %\n",
      "0.48 %\n",
      "0.49 %\n",
      "0.5 %\n",
      "0.51 %\n",
      "0.52 %\n",
      "0.53 %\n",
      "0.54 %\n",
      "0.55 %\n",
      "0.56 %\n",
      "0.57 %\n",
      "0.58 %\n",
      "0.59 %\n",
      "0.6 %\n",
      "0.61 %\n",
      "0.62 %\n",
      "0.63 %\n",
      "0.64 %\n",
      "0.65 %\n",
      "0.66 %\n",
      "0.67 %\n",
      "0.68 %\n",
      "0.69 %\n",
      "0.7 %\n",
      "0.71 %\n",
      "0.72 %\n",
      "0.73 %\n",
      "0.74 %\n",
      "0.75 %\n",
      "0.76 %\n",
      "0.77 %\n",
      "0.78 %\n",
      "0.79 %\n",
      "0.8 %\n",
      "0.81 %\n",
      "0.82 %\n",
      "0.83 %\n",
      "0.84 %\n",
      "0.85 %\n",
      "0.86 %\n",
      "0.87 %\n",
      "0.88 %\n",
      "0.89 %\n",
      "0.9 %\n",
      "0.91 %\n",
      "0.92 %\n",
      "0.93 %\n",
      "0.94 %\n",
      "0.95 %\n",
      "0.96 %\n",
      "0.97 %\n",
      "0.98 %\n",
      "0.99 %\n",
      "#ERROR: The parameter maximum limit reached\n"
     ]
    }
   ],
   "source": [
    "R_measured_prev = 0\n",
    "R_iter_test_prev = 0\n",
    "\n",
    "count = 0\n",
    "for R_iter_test in R_iter:\n",
    "    print(count/Total_no_of_points,'%')\n",
    "    # Modifying netlist file\n",
    "    with open(output_file, 'w') as file:\n",
    "        file.write(spice_netlist(R_iter_test))\n",
    "    \n",
    "\n",
    "    # Simulating LTspice file\n",
    "    RunLTsimulation(netlist_file)\n",
    "    lt = ltspice.Ltspice(net_name +'.raw')\n",
    "    lt.parse()\n",
    "\n",
    "\n",
    "    # Checking the required parameter\n",
    "    I = lt.get_data(\"I(I1)\")\n",
    "    V = lt.get_data(\"V(n001)\")\n",
    "    R_measured = V[-1]/I[-1]\n",
    "\n",
    "    if(R_measured == R_req):\n",
    "        print('Iteration stops at R iter test = ',R_iter_test)\n",
    "        check = R_iter_test\n",
    "        break\n",
    "\n",
    "    if( (np.abs(R_measured_prev - R_req)) < (np.abs(R_measured - R_req) )):\n",
    "        print('Iteration found for R iter test = ',R_iter_test_prev)\n",
    "        check = R_iter_test_prev\n",
    "        break\n",
    "\n",
    "    if(R_iter_test == Param_max):\n",
    "        print('#ERROR: The parameter maximum limit reached')\n",
    "        break\n",
    "\n",
    "    R_measured_prev = R_measured\n",
    "    R_iter_test_prev = R_iter_test\n",
    "\n",
    "    count = count + 1"
   ]
  },
  {
   "cell_type": "code",
   "execution_count": 13,
   "id": "f5aa1397",
   "metadata": {},
   "outputs": [
    {
     "name": "stdout",
     "output_type": "stream",
     "text": [
      "To check if the resultant is what we need =  99.81818181818181\n"
     ]
    }
   ],
   "source": [
    "R12 = (2*check*check)/(3*check)\n",
    "check_test = (R12*3*check)/(R12 + (3*check))\n",
    "print('To check if the resultant is what we need = ',check_test)"
   ]
  }
 ],
 "metadata": {
  "kernelspec": {
   "display_name": "Python 3",
   "language": "python",
   "name": "python3"
  },
  "language_info": {
   "codemirror_mode": {
    "name": "ipython",
    "version": 3
   },
   "file_extension": ".py",
   "mimetype": "text/x-python",
   "name": "python",
   "nbconvert_exporter": "python",
   "pygments_lexer": "ipython3",
   "version": "3.11.9"
  }
 },
 "nbformat": 4,
 "nbformat_minor": 5
}
