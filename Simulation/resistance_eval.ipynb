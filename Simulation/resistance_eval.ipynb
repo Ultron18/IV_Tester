{
 "cells": [
  {
   "cell_type": "code",
   "execution_count": 1,
   "metadata": {},
   "outputs": [],
   "source": [
    "# The dimensions of lengths are in `cm`\n",
    "Rs = 0.121603   # in ohm cm2\n",
    "Rsh = 2405.689  # in ohm cm2\n",
    "Isc = 11.253\n",
    "Area_cell = 16.6 * 16.6\n",
    "\n",
    "# The dimensions of lengths are in `m`\n",
    "Len_cell = 166/1000\n",
    "RF_b = 41.2     # in ohm/m\n",
    "RF_f = 89       # in ohm/m\n",
    "RB_b = 6        # in ohm/m\n",
    "RB_f = 51.11    # in ohm/m"
   ]
  },
  {
   "cell_type": "code",
   "execution_count": 2,
   "metadata": {},
   "outputs": [],
   "source": [
    "# User changable\n",
    "Busbars = 9\n",
    "Fingers = 120"
   ]
  },
  {
   "cell_type": "code",
   "execution_count": 3,
   "metadata": {},
   "outputs": [
    {
     "name": "stdout",
     "output_type": "stream",
     "text": [
      "Series_unit =  4.0860564076923484e-07  ohm\n",
      "Shunt_unit =  9428.596748439539  ohm\n",
      "\n",
      "\n",
      "I_unit =  0.010419971127528906  A\n",
      "\n",
      "\n",
      "Front_bb_unit =  0.05652231404958678  ohm\n",
      "Front_f_unit =  1.4774  ohm\n",
      "Back_bb_unit =  0.008231404958677685  ohm\n",
      "Back_f_unit =  0.8484260000000001  ohm\n",
      "\n",
      "\n",
      "Back_bb_unit =  0.004115702479338843  ohm\n",
      "Back_f_unit =  0.42421300000000006  ohm\n"
     ]
    }
   ],
   "source": [
    "Grid_Size = Fingers * Busbars\n",
    "Series_unit = (Rs/Area_cell)/Grid_Size\n",
    "Shunt_unit = (Rsh/Area_cell)*Grid_Size\n",
    "I_unit = (Isc*(1 + Rs/Rsh))/Grid_Size\n",
    "\n",
    "print('Series_unit = ',Series_unit,' ohm')\n",
    "print('Shunt_unit = ',Shunt_unit,' ohm')\n",
    "print('\\n')\n",
    "print('I_unit = ',I_unit,' A')\n",
    "\n",
    "\n",
    "Front_bb_unit = (RF_b*Len_cell)/(Fingers + 1)\n",
    "Front_f_unit = (RF_f*Len_cell)/(Busbars + 1)\n",
    "\n",
    "Back_bb_unit = (RB_b*Len_cell)/(Fingers + 1)\n",
    "Back_f_unit = (RB_f*Len_cell)/(Busbars + 1)\n",
    "\n",
    "Back_bb = (RB_b*Len_cell)/(Fingers + 1)\n",
    "Back_f = (RB_f*Len_cell)/(Busbars + 1)\n",
    "\n",
    "print('\\n')\n",
    "print('Front_bb_unit = ',Front_bb_unit,' ohm')\n",
    "print('Front_f_unit = ',Front_f_unit,' ohm')\n",
    "print('Back_bb_unit = ',Back_bb_unit,' ohm')\n",
    "print('Back_f_unit = ',Back_f_unit,' ohm')\n",
    "\n",
    "print('\\n')\n",
    "print('Back_bb_unit = ',Back_bb_unit/2,' ohm')\n",
    "print('Back_f_unit = ',Back_f_unit/2,' ohm')"
   ]
  },
  {
   "cell_type": "code",
   "execution_count": 6,
   "metadata": {},
   "outputs": [
    {
     "name": "stdout",
     "output_type": "stream",
     "text": [
      "\n",
      "\n",
      "Gold_bb_unit =  2.8000000000000003e-08  ohm\n",
      "Gold_f_unit =  3.6e-07  ohm\n"
     ]
    }
   ],
   "source": [
    "RGb = 0.28 * 10**(-7)\n",
    "RGf = 3.6 * 10**(-7)\n",
    "\n",
    "RG_bus_all = RGb * (120 + 1)\n",
    "RG_finger_all = RGf * (9 + 1)\n",
    "\n",
    "Gold_bb_unit = RG_bus_all/(Fingers + 1)\n",
    "Gold_f_unit = RG_finger_all/(Busbars + 1)\n",
    "\n",
    "\n",
    "print('\\n')\n",
    "print('Gold_bb_unit = ',Gold_bb_unit,' ohm')\n",
    "print('Gold_f_unit = ',Gold_f_unit,' ohm')"
   ]
  },
  {
   "cell_type": "code",
   "execution_count": null,
   "metadata": {},
   "outputs": [
    {
     "name": "stdout",
     "output_type": "stream",
     "text": [
      "1.3999952377672035e-08\n",
      "1.7999992362330654e-07\n"
     ]
    }
   ],
   "source": [
    "Gold_bb = RG_bus_all/(Fingers + 1)\n",
    "Gold_f = RG_finger_all/(Busbars + 1)\n",
    "\n",
    "Non_iso_unit_bb = Back_bb * Gold_bb /(Back_bb + Gold_bb)\n",
    "Non_iso_unit_f = Back_f * Gold_f / (Back_f + Gold_f)\n",
    "\n",
    "print(Non_iso_unit_bb/2)\n",
    "print(Non_iso_unit_f/2)"
   ]
  }
 ],
 "metadata": {
  "kernelspec": {
   "display_name": "Python 3",
   "language": "python",
   "name": "python3"
  },
  "language_info": {
   "codemirror_mode": {
    "name": "ipython",
    "version": 3
   },
   "file_extension": ".py",
   "mimetype": "text/x-python",
   "name": "python",
   "nbconvert_exporter": "python",
   "pygments_lexer": "ipython3",
   "version": "3.11.9"
  }
 },
 "nbformat": 4,
 "nbformat_minor": 2
}
