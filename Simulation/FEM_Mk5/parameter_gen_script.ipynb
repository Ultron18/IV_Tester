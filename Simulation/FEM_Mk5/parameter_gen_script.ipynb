{
 "cells": [
  {
   "cell_type": "markdown",
   "metadata": {},
   "source": [
    "This code is to generate the parameters such as front resistance network, back resistance network, rshunt, rseries etc"
   ]
  },
  {
   "cell_type": "code",
   "execution_count": 1,
   "metadata": {},
   "outputs": [],
   "source": [
    "import numpy as np\n",
    "import pickle"
   ]
  },
  {
   "cell_type": "code",
   "execution_count": 2,
   "metadata": {},
   "outputs": [],
   "source": [
    "m = 120   # No of fingers\n",
    "n = 9   # No of busbars\n",
    "I = 0.01047087 # 0.009 #illumination\n",
    "\n",
    "# now we set the range for each parametes\n",
    "RF_finger = []\n",
    "RFf = []\n",
    "RB_finger = []\n",
    "RBf = []\n",
    "RG_finger = []\n",
    "RGf = []\n",
    "for i in range(0, m):\n",
    "    for j in range(0, n+1):\n",
    "        RFf.append(np.random.uniform(1.376, 2.064))\n",
    "        RBf.append(np.random.uniform(0.7, 1.05))\n",
    "        RGf.append(np.random.uniform(3.5e-7,3.7e-7))\n",
    "        # RGf.append(np.random.uniform(3.5e-4,3.7e-4))\n",
    "        # RGf.append(np.random.uniform(3.5e-1,3.7e-1))\n",
    "    RF_finger.append(RFf)\n",
    "    RB_finger.append(RBf)\n",
    "    RG_finger.append(RGf)\n",
    "    RFf = []\n",
    "    RBf = []\n",
    "    RGf = []\n",
    "\n",
    "RF_busbar = []\n",
    "RFb = []\n",
    "RB_busbar = []\n",
    "RBb = []\n",
    "RG_busbar = []\n",
    "RGb = []\n",
    "for i in range(0, m+1):\n",
    "    for j in range(0, n):\n",
    "        RFb.append(np.random.uniform(0.04075, 0.0608))\n",
    "        RBb.append(np.random.uniform(0.0055, 0.0117))\n",
    "        RGb.append(np.random.uniform(0.27e-7,0.29e-7))\n",
    "        # RGb.append(np.random.uniform(0.27e-4,0.29e-4))\n",
    "        # RGb.append(np.random.uniform(0.27e-1,0.29e-1))\n",
    "    RF_busbar.append(RFb)\n",
    "    RB_busbar.append(RBb)\n",
    "    RG_busbar.append(RGb)\n",
    "    RFb = []\n",
    "    RBb = []\n",
    "    RGb = []\n",
    "\n",
    "Rshunt = []\n",
    "Rseries = []\n",
    "Rsh = []\n",
    "Rsr = []\n",
    "for i in range(0,m):\n",
    "    for j in range(0,n):  \n",
    "        Rsh.append(np.random.uniform(9800, 10000))\n",
    "        Rsr.append(np.random.uniform(4.25e-7, 4.3e-7))\n",
    "    Rshunt.append(Rsh)\n",
    "    Rseries.append(Rsr)\n",
    "    Rsh = []\n",
    "    Rsr = []\n",
    "\n",
    "# pogo pin resistance\n",
    "Rpogo = 1e-3 #0.1 m ohm"
   ]
  },
  {
   "cell_type": "code",
   "execution_count": 3,
   "metadata": {},
   "outputs": [],
   "source": [
    "# Store all variables in a dictionary\n",
    "data = {\n",
    "    \"n\": n,\n",
    "    \"m\": m,\n",
    "    \"I\": I,\n",
    "    \"RF_finger\": RF_finger,\n",
    "    \"RB_finger\": RB_finger,\n",
    "    \"RG_finger\": RG_finger,\n",
    "    \"RF_busbar\": RF_busbar,\n",
    "    \"RB_busbar\": RB_busbar,\n",
    "    \"RG_busbar\": RG_busbar,\n",
    "    \"Rshunt\": Rshunt,\n",
    "    \"Rseries\": Rseries,\n",
    "    \"RPogo_pin\": Rpogo\n",
    "}\n",
    "\n",
    "# Save the dictionary to a file\n",
    "#file_name = \"spice_models\\\\parameters.pkl\"\n",
    "file_name = \"Model\\\\parameters.pkl\"\n",
    "with open(file_name, \"wb\") as file:\n",
    "    pickle.dump(data, file)"
   ]
  }
 ],
 "metadata": {
  "kernelspec": {
   "display_name": "Python 3",
   "language": "python",
   "name": "python3"
  },
  "language_info": {
   "codemirror_mode": {
    "name": "ipython",
    "version": 3
   },
   "file_extension": ".py",
   "mimetype": "text/x-python",
   "name": "python",
   "nbconvert_exporter": "python",
   "pygments_lexer": "ipython3",
   "version": "3.11.9"
  }
 },
 "nbformat": 4,
 "nbformat_minor": 2
}
